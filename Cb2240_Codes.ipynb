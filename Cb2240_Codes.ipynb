{
  "nbformat": 4,
  "nbformat_minor": 0,
  "metadata": {
    "colab": {
      "provenance": [],
      "authorship_tag": "ABX9TyN3ZiW3Z59I6XtSHqrRLT8C",
      "include_colab_link": true
    },
    "kernelspec": {
      "name": "python3",
      "display_name": "Python 3"
    },
    "language_info": {
      "name": "python"
    }
  },
  "cells": [
    {
      "cell_type": "markdown",
      "metadata": {
        "id": "view-in-github",
        "colab_type": "text"
      },
      "source": [
        "<a href=\"https://colab.research.google.com/github/jerrycyng/jerrycyng/blob/main/Cb2240_Codes.ipynb\" target=\"_parent\"><img src=\"https://colab.research.google.com/assets/colab-badge.svg\" alt=\"Open In Colab\"/></a>"
      ]
    },
    {
      "cell_type": "markdown",
      "source": [
        "Lesson 1 Classwork"
      ],
      "metadata": {
        "id": "WYkoD9_b3_2Z"
      }
    },
    {
      "cell_type": "code",
      "source": [
        "#CB2240 Classwork 1\n",
        "#Name: Ng Chun Yi\n",
        "#SID: 56913047\n",
        "\n",
        "name = input(\"What is your name? \") #define a variable using the input function.\n",
        "print(\"Hello \" + name + \"!\")\n",
        "print(\"You are gonna ace this class!!!!\")\n",
        "\n",
        "#End of program convention\n",
        "print() #Add an empty line in the output.\n",
        "input(\"Please ENTER to end the program. \") #This prevents the window from closing after running."
      ],
      "metadata": {
        "id": "37fT4Xmz4CEc"
      },
      "execution_count": null,
      "outputs": []
    },
    {
      "cell_type": "markdown",
      "source": [
        "Lesson 1 Homework"
      ],
      "metadata": {
        "id": "j8D7AGMAph7h"
      }
    },
    {
      "cell_type": "code",
      "source": [
        "#CB2240 Homework 1\n",
        "#Name: Ng Chun Yi\n",
        "#SID: 56913047\n",
        "\n",
        "name = input(\"What is your name? \") #define a variable using the input function.\n",
        "major= input(\"What is your major? \") #define a variable using the input function.\n",
        "\n",
        "print(name +\" is looking for people majoring in \" + major+\".\")\n",
        "\n",
        "#End of program convention\n",
        "\n",
        "print() #Add an empty line in the output.\n",
        "input(\"Please ENTER to end the program. \") #This prevents the window from closing after running.\n",
        "\n"
      ],
      "metadata": {
        "id": "5YZRxMhxpgS4"
      },
      "execution_count": null,
      "outputs": []
    },
    {
      "cell_type": "markdown",
      "source": [
        "Lesson 2 Exercises"
      ],
      "metadata": {
        "id": "q8f1HIqK6vU2"
      }
    },
    {
      "cell_type": "code",
      "execution_count": null,
      "metadata": {
        "colab": {
          "base_uri": "https://localhost:8080/"
        },
        "id": "GiazEL6t6raz",
        "outputId": "a625e962-c630-4aea-d2b1-7c0f1069be6c"
      },
      "outputs": [
        {
          "output_type": "stream",
          "name": "stdout",
          "text": [
            "Enter a duration in days:17\n",
            "17 days = 2 week(s) and  3 day(s).\n"
          ]
        }
      ],
      "source": [
        "#Example A: Days -> Weeks & Days\n",
        "duration= eval(input(\"Enter a duration in days:\"))\n",
        "import math\n",
        "weeks= math.floor(duration/7)\n",
        "days= duration%7\n",
        "print(duration, \"days\", \"=\", weeks, \"week(s) and \",days, \"day(s).\")"
      ]
    },
    {
      "cell_type": "code",
      "source": [
        "#Example B: Future Value\n",
        "a= eval(input(\"Enter the initial amount:$ \"))\n",
        "n= eval(input(\"Enter the number of years: \"))\n",
        "r= eval(input(\"Enter the annual interesr rate (without the %): \"))\n",
        "futurevalue= round(a*(1+r)**n,2)\n",
        "print(\"The account balance in\", n, \"years is $\", str(futurevalue)+\".\")"
      ],
      "metadata": {
        "colab": {
          "base_uri": "https://localhost:8080/"
        },
        "id": "PZmE7qC28ZI1",
        "outputId": "e8c35e52-7651-4cc1-f948-3f4869b8f039"
      },
      "execution_count": null,
      "outputs": [
        {
          "output_type": "stream",
          "name": "stdout",
          "text": [
            "Enter the initial amount:$ 1000\n",
            "Enter the number of years: 10\n",
            "Enter the annual interesr rate (without the %): 0.01\n",
            "The account balance in 10 years is $ 1104.62.\n"
          ]
        }
      ]
    },
    {
      "cell_type": "code",
      "source": [
        "#Example C: Present Value\n",
        "r= eval(input(\"Enter the annual interesr rate (without the %): \"))\n",
        "PV= round(100000/(1+r/12)**(5*12),2)\n",
        "print(\"The present value of the loyalty bonus in 5 years is $\",str(PV)+\".\")"
      ],
      "metadata": {
        "id": "-UH0JmNd-IrM",
        "colab": {
          "base_uri": "https://localhost:8080/"
        },
        "outputId": "e642ffb2-495c-45fe-e956-abfb0522af39"
      },
      "execution_count": null,
      "outputs": [
        {
          "output_type": "stream",
          "name": "stdout",
          "text": [
            "Enter the annual interesr rate (without the %): 0.05\n",
            "The present value of the loyalty bonus in 5 years is $ 77920.54.\n"
          ]
        }
      ]
    },
    {
      "cell_type": "markdown",
      "source": [
        "Notes:\n",
        "Eval argument must be string\n",
        "or defined variable in string"
      ],
      "metadata": {
        "id": "3S0-AJINA8LW"
      }
    },
    {
      "cell_type": "markdown",
      "source": [
        "ClassWork 2"
      ],
      "metadata": {
        "id": "njeigY3aARQY"
      }
    },
    {
      "cell_type": "code",
      "source": [
        "#CB2240 Classwork 2: Future value of annuity\n",
        "#Name: Ng Chun Yi\n",
        "#SID: 56913047\n",
        "#In this program, we will be using the (annuity formula) to calculate the future value of annuity.\n",
        "#Formula: FV= C*[(1+r)**n -1]/r where r= rate, C= cash flow and n= years\n",
        "\n",
        "ARate= eval(input(\"Enter your target ANNUAL rate of return (without the % sign):\")) #define variable (ARate) as the target annual rate of return by the input function.\n",
        "\n",
        "MRate= (ARate/12) #define variable (MRate) as the target monthly rate of return by dividing the target annual rate into 12.\n",
        "\n",
        "MPF= round((1500*2)*(((1+MRate)**(38*12)) -1)/MRate,2) #Using the annuity formula and round it to 2 demical points\n",
        "\n",
        "roundedMPF = round(MPF/1000000,1) #Round it in terms of millions and with 1 demical\n",
        "\n",
        "print(\"With a total monthly contribution of $3000, your MPF will worth $\"+str(MPF), \"after 38 years.\")\n",
        "print (\"That is about\", roundedMPF, \"millions(s).\")\n",
        "\n",
        "#End of program convention\n",
        "print() #Add an empty line in the output.\n",
        "input(\"Please ENTER to exit. \") #This prevents the window from closing"
      ],
      "metadata": {
        "id": "eyOkTug8-qM0",
        "colab": {
          "base_uri": "https://localhost:8080/",
          "height": 123
        },
        "outputId": "ae60a7b3-5a2e-4631-8506-c8be14f34b4d"
      },
      "execution_count": null,
      "outputs": [
        {
          "name": "stdout",
          "output_type": "stream",
          "text": [
            "Enter your target ANNUAL rate of return (without the % sign):0.03\n",
            "With a total monthly contribution of $3000, your MPF will worth $2546787.95 after 38 years.\n",
            "That is about 2.5 millions(s).\n",
            "\n",
            "Please ENTER to end the program. \n"
          ]
        },
        {
          "output_type": "execute_result",
          "data": {
            "text/plain": [
              "''"
            ],
            "application/vnd.google.colaboratory.intrinsic+json": {
              "type": "string"
            }
          },
          "metadata": {},
          "execution_count": 54
        }
      ]
    },
    {
      "cell_type": "markdown",
      "source": [
        "Homework 2"
      ],
      "metadata": {
        "id": "xj74-LJUAUNf"
      }
    },
    {
      "cell_type": "code",
      "source": [
        "#CB2240 Homework 2: Present value of annuity\n",
        "#Name: Ng Chun Yi\n",
        "#SID: 56913047\n",
        "#In this program, we will be for loop to calculate the present value of cash flow for the first 35 years.\n",
        "#Last, we will discount the one-time retirement bonus (1M)\n",
        "\n",
        "DiscountRate = eval(input(\"Enter the discount rate (without the % sign): \"))\n",
        "\n",
        "PV=0        #define variable (PV) as the present value of cash flow for the first 35 years\n",
        "for x in range(5,40,5):\n",
        "     PV+= (100000/((1+(DiscountRate))**x))         #the variable (PV) will be calculated for the end of every 5 years (for the first 35 years)\n",
        "\n",
        "FinalPV= round(PV+ (1000000/((1.03)**38)),2)       #define variable (FinalPV) as the present value of cash flow for the final bonus + the cash flow for the first 35 years\n",
        "print(\"The total future bonus of $1.7 million is worth $\"+str(FinalPV),\"today.\" )\n",
        "\n",
        "#End of program convention\n",
        "print() #Add an empty line in the output.\n",
        "input(\"Please ENTER to end the program. \") #This prevents the window from closing"
      ],
      "metadata": {
        "id": "cA_nShzT-tcM",
        "colab": {
          "base_uri": "https://localhost:8080/",
          "height": 105
        },
        "outputId": "0239393c-40d5-44ca-b167-ecfed5475886"
      },
      "execution_count": null,
      "outputs": [
        {
          "name": "stdout",
          "output_type": "stream",
          "text": [
            "Enter the discount rate (without the % sign): 0.03\n",
            "The total future bonus of $1.7 million is worth $729947.77 today.\n",
            "\n",
            "Please ENTER to end the program. \n"
          ]
        },
        {
          "output_type": "execute_result",
          "data": {
            "text/plain": [
              "''"
            ],
            "application/vnd.google.colaboratory.intrinsic+json": {
              "type": "string"
            }
          },
          "metadata": {},
          "execution_count": 55
        }
      ]
    },
    {
      "cell_type": "markdown",
      "source": [
        "Lecture 3 Example 1,2,3"
      ],
      "metadata": {
        "id": "nMXJ5oVAvXIt"
      }
    },
    {
      "cell_type": "code",
      "source": [
        "#Example A: Generate random letter\n",
        "\n",
        "import random\n",
        "import string\n",
        "print(\"Here is a random letter: \"+random.choice(string.ascii_uppercase))"
      ],
      "metadata": {
        "colab": {
          "base_uri": "https://localhost:8080/"
        },
        "id": "SXJU3tFYvnyj",
        "outputId": "e32e3182-f17c-40cf-d15e-a894ae5d3d1e"
      },
      "execution_count": null,
      "outputs": [
        {
          "output_type": "stream",
          "name": "stdout",
          "text": [
            "Here is a random letter: B\n"
          ]
        }
      ]
    },
    {
      "cell_type": "code",
      "source": [
        "#Example B: alphabetic order\n",
        "letter= input(\"Pick one letter from A-Z: \")\n",
        "temp= int(string.ascii_letters.find(letter)-25)\n",
        "\n",
        "position=0\n",
        "if temp<-1:\n",
        "  position = temp*-1\n",
        "else:\n",
        "    position= temp\n",
        "letter.upper()\n",
        "\n",
        "if position== 1:\n",
        "   word = \"st\"\n",
        "elif position == 2:\n",
        "   word = \"nd\"\n",
        "elif position == 3:\n",
        "   word = \"rd\"\n",
        "else:\n",
        "   word= \"th\"\n",
        "\n",
        "print(str(letter.upper())+\" is the \"+str(position)+ str(word) +\" letter in the alphabet.\")"
      ],
      "metadata": {
        "colab": {
          "base_uri": "https://localhost:8080/"
        },
        "id": "cmYVx1C_xihm",
        "outputId": "4d0cd892-1bdc-4d52-ef57-e92d4014f936"
      },
      "execution_count": null,
      "outputs": [
        {
          "output_type": "stream",
          "name": "stdout",
          "text": [
            "Pick one letter from A-Z: m\n",
            "M is the 13th letter in the alphabet.\n"
          ]
        }
      ]
    },
    {
      "cell_type": "code",
      "source": [
        "#Example C: Generate random password\n",
        "import random\n",
        "import string\n",
        "print(\"Here is a random 2-letter & 2-digit pasword: \"+str(random.choice(string.ascii_uppercase))+str(random.choice(string.ascii_uppercase))+ str(random.randint(0, 9))+str(random.randint(0, 9)))"
      ],
      "metadata": {
        "colab": {
          "base_uri": "https://localhost:8080/"
        },
        "id": "fM_7UHtzwJiq",
        "outputId": "eeca7e49-1a01-4772-fa86-205d5617f93e"
      },
      "execution_count": null,
      "outputs": [
        {
          "output_type": "stream",
          "name": "stdout",
          "text": [
            "Here is a random 2-letter & 2-digit pasword: XH38\n"
          ]
        }
      ]
    },
    {
      "cell_type": "markdown",
      "source": [
        "Classwork 3"
      ],
      "metadata": {
        "id": "PIoizRXpmIUZ"
      }
    },
    {
      "cell_type": "code",
      "source": [
        "#CB2240 Classwork 3: Word replacement Python Program\n",
        "#Name: Ng Chun Yi\n",
        "#SID: 56913047\n",
        "\n",
        "Sentence= input(\"Please input a sentence! \")   #define variable (Sentence) as the sentence\n",
        "Word_to_replace= input(\"Please input a word you want to replace from the sentence! \") #define variable (Word_to_replace) as the word to be replaced\n",
        "Replacement= input(\"Input your replacement word! \")  #define variable (Replacement) as the replacement word\n",
        "\n",
        "First_half= Sentence[0:Sentence.find(Word_to_replace)]   #Slice into the strings before replacement\n",
        "Second_half= Sentence[len(Word_to_replace)+Sentence.find(Word_to_replace):] #Slice into the strings after replacement\n",
        "result= First_half+ Replacement+ Second_half   #Concatenate three strings in the correct order\n",
        "\n",
        "print(\"\")\n",
        "print(result)  #Display the sentence with the original word replaced.\n",
        "\n",
        "\n",
        "#End of program convention\n",
        "print() #Add an empty line in the output.\n",
        "input(\"Please ENTER to end the program. \") #This prevents the window from closing"
      ],
      "metadata": {
        "id": "kHWdUjuFJ1py",
        "colab": {
          "base_uri": "https://localhost:8080/"
        },
        "outputId": "54280c98-3e5f-4354-b674-e4a0b21fb255"
      },
      "execution_count": null,
      "outputs": [
        {
          "output_type": "stream",
          "name": "stdout",
          "text": [
            "Please input a sentence! No fuck, no gain\n",
            "Please input a word you want to replace from the sentence! fuck\n",
            "Input your replacement word! pain\n",
            "\n",
            "Sentence with the originally word replaced\n",
            "No pain, no gain\n"
          ]
        }
      ]
    },
    {
      "cell_type": "markdown",
      "source": [
        "Homework 3"
      ],
      "metadata": {
        "id": "rClc8ZCGpmak"
      }
    },
    {
      "cell_type": "code",
      "source": [
        "#CB2240 Homework 3: Caesar Cipher Algorithm\n",
        "#Name: Ng Chun Yi\n",
        "#SID: 56913047\n",
        "import string  #Import external python library (string)\n",
        "\n",
        "U_encrpyted = input(\"Enter a 3-letter word: \") #define variable (U_encrpyted) as the string storing the unencrpyted letters/strings\n",
        "encrpyted = \"\"                                #define variable (encrpyted) as the string storing the encrpyted letters/strings (still empty in this stage)\n",
        "shift= eval(input(\"Shift? \"))                 #define variable (shift) as the integer about how much it will switch\n",
        "\n",
        "if shift> 26:                                 #If the number of the shifts exceeds 26, start from the beginning of the alphabet (e.g. shifting by 28 is the same as shifting by 2)\n",
        "   shift%=26\n",
        "\n",
        "for i in U_encrpyted:                          #For loop (loop through every string in the U_encrpyted variable)\n",
        "    loc = int(string.ascii_letters.find(i))+1  #define variable (loc) as the integer finding the location of the unencrpyted letters/strings\n",
        "    final_loc= loc+ shift                      #define variable (final_loc) as the integer about the final location of inside A-Z\n",
        "    if final_loc >26:                          #If the number of the final location exceeds 26, start from the beginning of the alphabet (e.g. shifting by 28 is the same as shifting by 2)\n",
        "       final_loc%= 26\n",
        "    temp = str(string.ascii_uppercase[final_loc-1])  #define variable (temp) as the string temporary storing the encrpyted strings in a loop\n",
        "    encrpyted += temp                                #define variable (encrpyted) as the string storing the encrpyted strings\n",
        "next\n",
        "\n",
        "\n",
        "print(str(U_encrpyted.upper()) +\" is encrypted to \"+ encrpyted)      #printing encrpyted result\n",
        "\n",
        "#End of program convention\n",
        "print() #Add an empty line in the output.\n",
        "input(\"Please ENTER to end the program. \") #This prevents the window from closing"
      ],
      "metadata": {
        "id": "CmZCxkyTnymV",
        "colab": {
          "base_uri": "https://localhost:8080/",
          "height": 124
        },
        "outputId": "d7486f07-7007-4744-e6bd-28ba9bc4ef5a"
      },
      "execution_count": null,
      "outputs": [
        {
          "name": "stdout",
          "output_type": "stream",
          "text": [
            "Enter a 3-letter word:bts\n",
            "Shift? 60\n",
            "BTS is encrypted to JBA\n",
            "\n",
            "Please ENTER to end the program. \n"
          ]
        },
        {
          "output_type": "execute_result",
          "data": {
            "text/plain": [
              "''"
            ],
            "application/vnd.google.colaboratory.intrinsic+json": {
              "type": "string"
            }
          },
          "metadata": {},
          "execution_count": 29
        }
      ]
    },
    {
      "cell_type": "markdown",
      "source": [
        "Lab 4"
      ],
      "metadata": {
        "id": "F3HG4jAP0kqq"
      }
    },
    {
      "cell_type": "code",
      "source": [
        "#Example A\n",
        "#Abbreviations for the months\n",
        "month = [\"January\", \"February\", \"March\"]\n",
        "adj_month = []\n",
        "\n",
        "for i in range(len(month)):\n",
        "  adj_month.append(month[i][0:3])\n",
        "print(adj_month)"
      ],
      "metadata": {
        "colab": {
          "base_uri": "https://localhost:8080/"
        },
        "id": "ZFQ6tMtt0mZy",
        "outputId": "d9fb7885-e000-49a0-b079-d1c85b248fd0"
      },
      "execution_count": null,
      "outputs": [
        {
          "output_type": "stream",
          "name": "stdout",
          "text": [
            "['Jan', 'Feb', 'Mar']\n"
          ]
        }
      ]
    },
    {
      "cell_type": "code",
      "source": [
        "#Example B\n",
        "# Acrostic poem\n",
        "poem = \"Cuddly and fluffy \\nAlways cheeky \\nThey make us laugh \\nSuperb at climbing\"\n",
        "poem_acrostic= \"\"\n",
        "for i in range(len(poem.split('\\n'))):\n",
        "    poem_acrostic+= poem.split('\\n')[i][0]\n",
        "print(poem_acrostic)"
      ],
      "metadata": {
        "colab": {
          "base_uri": "https://localhost:8080/"
        },
        "id": "YBDpJ2Qo1j8P",
        "outputId": "335ef89a-0242-4fb0-d5a7-e8d298a7f908"
      },
      "execution_count": null,
      "outputs": [
        {
          "output_type": "stream",
          "name": "stdout",
          "text": [
            "CATS\n"
          ]
        }
      ]
    },
    {
      "cell_type": "code",
      "source": [
        "#Example C\n",
        "# Nested List\n",
        "lst=[\"Hong Kong\", [\"Hong Kong Island\", [\"Kowloon\",[\"&&&&\", \"Tat Chee Ave\"]],\"New Territories\"]]\n",
        "lst[1][1][1][0]= \"CityU\"\n",
        "print(lst)\n",
        "lst[1][1][1].insert(1, 83)\n",
        "print(lst)"
      ],
      "metadata": {
        "colab": {
          "base_uri": "https://localhost:8080/"
        },
        "id": "BMyhM_cQ4w7-",
        "outputId": "76e761cf-8460-4452-f599-2255c17d1323"
      },
      "execution_count": null,
      "outputs": [
        {
          "output_type": "stream",
          "name": "stdout",
          "text": [
            "['Hong Kong', ['Hong Kong Island', ['Kowloon', ['CityU', 'Tat Chee Ave']], 'New Territories']]\n",
            "['Hong Kong', ['Hong Kong Island', ['Kowloon', ['CityU', 83, 'Tat Chee Ave']], 'New Territories']]\n"
          ]
        }
      ]
    },
    {
      "cell_type": "markdown",
      "source": [
        "Classwork 4"
      ],
      "metadata": {
        "id": "y4yL2cvcI4h0"
      }
    },
    {
      "cell_type": "code",
      "source": [
        "#Testing Passage: What does present value mean? In economics and finance, present value, also known as present discounted value, is the value of an expected income stream determined as of the date of valuation. The present value is usually less than the future value because money has interest-earning potential, a characteristic referred to as the time value of money. A dollar today is worth more than a dollar tomorrow!\n",
        "#CB2240 Classwork 4: Random Paragraph Calculations\n",
        "#Name: Ng Chun Yi\n",
        "#SID: 56913047\n",
        "paragraph= input(\"Enter a random paragraph: \")  #define variable (paragraph) as the string storing the passage.\n",
        "\n",
        "sentence_count=0   #define variable (sentence_count) as the integer storing the count of sentence.\n",
        "word_count= 0      #define variable (word_count) as the integer storing the count of word.\n",
        "\n",
        "for i in paragraph:\n",
        "  if (i == \"?\") | (i ==\".\") | (i ==\"!\"):    #if string contains either ? or . or !, count it as one sentence.\n",
        "     sentence_count+=1\n",
        "  if (i == \" \"):                            #if string contains space, count as a word.\n",
        "      word_count +=1\n",
        "next\n",
        "\n",
        "print(\"This paragraph has\",  sentence_count, \"sentence(s).\", word_count+1 , \"words in total.\")\n",
        "\n",
        "#End of program convention\n",
        "print() #Add an empty line in the output.\n",
        "input(\"Please ENTER to Exit. \") #This prevents the window from closing"
      ],
      "metadata": {
        "colab": {
          "base_uri": "https://localhost:8080/",
          "height": 127
        },
        "id": "MeetsXlu8fT0",
        "outputId": "bcf5cb3e-6edf-4e85-9299-5062efe06420"
      },
      "execution_count": null,
      "outputs": [
        {
          "name": "stdout",
          "output_type": "stream",
          "text": [
            "Enter a random paragraph: What does present value mean? In economics and finance, present value, also known as present discounted value, is the value of an expected income stream determined as of the date of valuation. The present value is usually less than the future value because money has interest-earning potential, a characteristic referred to as the time value of money. A dollar today is worth more than a dollar tomorrow!\n",
            "This paragraph has 4 sentence(s). 67 words in total.\n",
            "\n",
            "Please ENTER to Exit. \n"
          ]
        },
        {
          "output_type": "execute_result",
          "data": {
            "text/plain": [
              "''"
            ],
            "application/vnd.google.colaboratory.intrinsic+json": {
              "type": "string"
            }
          },
          "metadata": {},
          "execution_count": 109
        }
      ]
    },
    {
      "cell_type": "markdown",
      "source": [
        "Homework 4"
      ],
      "metadata": {
        "id": "aidFnGtOI7Ck"
      }
    },
    {
      "cell_type": "code",
      "source": [
        "#CB2240 Homework 4: Matrix Inverses\n",
        "#Name: Ng Chun Yi\n",
        "#SID: 56913047\n",
        "#Test Case: [[5,3],[6,4]]\n",
        "matrix_list = eval(input(\"Enter a 2 by 2 matrix using the expression [[a,b],[c,d]]:\"))  #define variable (matrix_list) as the string variable storing the desired matrix.\n",
        "\n",
        "inverse_matrix_list= [[0 for x in range(2)] for x in range(2)]    #Initiate a 2D array\n",
        "\n",
        "matrix_list[0][0],matrix_list[1][1] = matrix_list[1][1],matrix_list[0][0]      #Swapping positions\n",
        "det= (matrix_list[0][0]*matrix_list[1][1]- matrix_list[1][0]*matrix_list[0][1])  #det calculations\n",
        "\n",
        "for a in range(2):\n",
        "  for b in range(2):\n",
        "    inverse_matrix_list[a][b] = matrix_list[a][b]/ det    #divide matrix positions into det\n",
        "    if (a== 0) & (b==1):\n",
        "      inverse_matrix_list[a][b]*=-1      #-1 for position b\n",
        "    if ((a== 1) & (b==0)):\n",
        "      inverse_matrix_list[a][b]*=-1      #-1 for position c\n",
        "print(\"The inverse of the matrix is \", inverse_matrix_list)\n",
        "\n",
        "#End of program convention\n",
        "print() #Add an empty line in the output.\n",
        "input(\"Please ENTER to Exit. \") #This prevents the window from closing"
      ],
      "metadata": {
        "colab": {
          "base_uri": "https://localhost:8080/"
        },
        "id": "E2HB-CCdBFyh",
        "outputId": "2f000bb8-51da-4ced-eb11-736361790c09"
      },
      "execution_count": null,
      "outputs": [
        {
          "output_type": "stream",
          "name": "stdout",
          "text": [
            "Enter a 2 by 2 matrix using the expression [[a,b],[c,d]]:[[999,9999],[99999,999999]]\n",
            "The inverse of the matrix is  [[-1.1223333333333334, 0.011222222222222222], [0.11223232323232324, -0.0011212121212121212]]\n"
          ]
        }
      ]
    },
    {
      "cell_type": "markdown",
      "source": [
        "Classwork 5"
      ],
      "metadata": {
        "id": "UoV8bBewP-xa"
      }
    },
    {
      "cell_type": "code",
      "source": [
        "#CB2240 Classwork 5: Leap year Calculations\n",
        "#Name: Ng Chun Yi\n",
        "#SID: 56913047\n",
        "\n",
        "year= eval(input(\"Enter a year: \"))  #define variable (year) as the integer variable storing the number of year\n",
        "\n",
        "if (year%4 == 0 and not year%100 == 0) or (year %400 == 0):   #leap year if divisible by 4, except for years divisible by 100 but not by 400\n",
        "  print(\"Year \" +str(year)+ \" is a leap year.\")\n",
        "else:\n",
        "  print(\"Year \" +str(year)+ \" is not a leap year.\")\n",
        "\n",
        "#End of program convention\n",
        "print() #Add an empty line in the output.\n",
        "input(\"Please ENTER to Exit. \") #This prevents the window from closing"
      ],
      "metadata": {
        "id": "CTwa1T9fJ_yb",
        "colab": {
          "base_uri": "https://localhost:8080/"
        },
        "outputId": "9e193792-aa4b-44fb-de8d-22d5c98f0f71"
      },
      "execution_count": null,
      "outputs": [
        {
          "output_type": "stream",
          "name": "stdout",
          "text": [
            "Enter a year: 1900\n",
            "Year 1900 is not a leap year.\n"
          ]
        }
      ]
    },
    {
      "cell_type": "markdown",
      "source": [
        "Homework 5"
      ],
      "metadata": {
        "id": "xzFoY0eNvABs"
      }
    },
    {
      "cell_type": "code",
      "source": [
        "#CB2240 Homework 5: Hong Kong Salaries Tax\n",
        "#Name: Ng Chun Yi\n",
        "#SID: 56913047\n",
        "\n",
        "\n",
        "salary = eval(input(\"Enter your salary: \"))   #define variable (salary) as the integer variable storing the salary of candidate\n",
        "status = eval(input(\"Enter your marriage status (1 for single, 2 for married): \")) #define variable (status) as the string variable storing the marriage status\n",
        "MPF = eval(input(\"Enter your madatory contribution to MPF: \"))   #define variable (MPF) as the integer variable storing the MPF of candidate\n",
        "\n",
        "NIC= salary - 132000* status - MPF    #define variable (MPF) as the integer variable storing the NIC of candidate\n",
        "\n",
        "#if Net Chargable Income (after allowances and deductions) <0 -> 0 tax is needed.\n",
        "if NIC <0 :\n",
        "   tax = 0\n",
        "\n",
        "#if Net Chargable Income (after allowances and deductions) <50000 -> 2% rate tax is charged.\n",
        "elif (1<=NIC<=50000):\n",
        "   tax= NIC* 0.02\n",
        "\n",
        "#if Net Chargable Income (after allowances and deductions) within the range 50001-100000 -> 6% rate tax is charged.\n",
        "elif (50001<=NIC<=100000):\n",
        "   tax= 50000*0.02 + (NIC-50000)*0.06\n",
        "\n",
        "\n",
        "#if Net Chargable Income (after allowances and deductions) within the range 100001-150000 -> 10% rate tax is charged.\n",
        "elif (100001<=NIC<=150000):\n",
        "   tax= 50000* (0.02+ 0.06) + (NIC- 50000* 2)*0.1\n",
        "\n",
        "\n",
        "#if Net Chargable Income (after allowances and deductions) within the range 150001-200000 -> 14% rate tax is charged.\n",
        "elif (150001<=NIC<=200000):\n",
        "   tax= 50000* (0.02+ 0.06+0.1) + (NIC- 50000* 3)*0.14\n",
        "\n",
        "#if Net Chargable Income (after allowances and deductions) within the range >200000 -> 17% rate tax is charged.\n",
        "else:\n",
        "   tax= 50000* (0.02+ 0.06+0.1+ 0.14) + (NIC- 50000* 4)*0.17\n",
        "\n",
        "print(\"Your salary tax due for the year is \" +str(int(tax))+ \".\")\n",
        "\n",
        "\n",
        "#End of program convention\n",
        "print() #Add an empty line in the output.\n",
        "input(\"Please ENTER to Exit. \") #This prevents the window from closing"
      ],
      "metadata": {
        "colab": {
          "base_uri": "https://localhost:8080/"
        },
        "id": "GD9TkQEDxqkU",
        "outputId": "741606c0-4a3e-4876-e090-db2216fd3968"
      },
      "execution_count": null,
      "outputs": [
        {
          "output_type": "stream",
          "name": "stdout",
          "text": [
            "Enter your salary: 1200000\n",
            "Enter your marriage status (1 for single, 2 for married): 2\n",
            "Enter your madatory contribution to MPF: 18000\n",
            "Your salary tax due for the year is 138060.\n"
          ]
        }
      ]
    },
    {
      "cell_type": "markdown",
      "source": [
        "Classwork 6"
      ],
      "metadata": {
        "id": "qHgaC3tCa6Ql"
      }
    },
    {
      "cell_type": "code",
      "source": [
        "#CB2240 Homework 6: Land Utilization\n",
        "#Name: Ng Chun Yi\n",
        "#SID: 56913047\n",
        "\n",
        "land_annual_addition= eval(input(\"Enter the anual addition of public residential land (in sq km): \"))\n",
        "private_residential= 27   #Define variable (private_residential) as the area of private residential land in Hong Kong.\n",
        "public_residential= 17    #Define variable (public_residential) as the area of public residential land in Hong Kong.\n",
        "rural_settlement = 35     #Define variable (rural_settlement) as the area of rural settlement land in Hong Kong.\n",
        "total=0                   #Define variable (total) as the total residential land in Hong Kong.\n",
        "i= 0                      #Define variable (i) as the iteration of the underlying loop.\n",
        "\n",
        "while (total< (private_residential+ public_residential+rural_settlement)*2):\n",
        "   total= private_residential*1.03**i + public_residential+ (i* land_annual_addition)+ rural_settlement    #loop\n",
        "   i+=1\n",
        "\n",
        "print(\"It will take at least \"+str(i-1)+\" year(s) for the residential land in Hong Kong to double in size.\")   #-1 becasue initial one should not be counted\n",
        "\n",
        "#End of program convention\n",
        "print() #Add an empty line in the output.\n",
        "input(\"Please ENTER to Exit. \") #This prevents the window from closing\n"
      ],
      "metadata": {
        "id": "Nd_Q-40EvDOK",
        "colab": {
          "base_uri": "https://localhost:8080/",
          "height": 107
        },
        "outputId": "74f3bd70-5fba-44cc-c8bc-eef1883da8d1"
      },
      "execution_count": null,
      "outputs": [
        {
          "name": "stdout",
          "output_type": "stream",
          "text": [
            "Enter the annual addition of public residential land (in sq km): 1\n",
            "It will take at least 34 year(s) for the residential land in Hong Kong to double in size.\n",
            "\n",
            "Please ENTER to Exit. \n"
          ]
        },
        {
          "output_type": "execute_result",
          "data": {
            "text/plain": [
              "''"
            ],
            "application/vnd.google.colaboratory.intrinsic+json": {
              "type": "string"
            }
          },
          "metadata": {},
          "execution_count": 14
        }
      ]
    },
    {
      "cell_type": "markdown",
      "source": [
        "Homework 6"
      ],
      "metadata": {
        "id": "ensgCtHPa6dG"
      }
    },
    {
      "cell_type": "code",
      "source": [
        "#CB2240 Homework 6: Ordinary Annuity\n",
        "#Name: Ng Chun Yi\n",
        "#SID: 56913047\n",
        "import math                         #import python library math\n",
        "\n",
        "value_MPF=0                                #Define variable (value_MPF) as iterative MPF\n",
        "CF= 3000                                   #Define variable (CF) as the integer storing the monthly MPF cashflow from both employee and employer\n",
        "count=1                                    #Define variable (i) as the integer storing the iterative count\n",
        "monthly_return= 0.0017                     #Define variable (monthly_return) as the floating number storing the monthly return\n",
        "\n",
        "target_MPF= eval(input(\"Enter the target balance for your MPF: \"))   #Promt user to enter their target balance of their MPF\n",
        "\n",
        "while value_MPF < target_MPF:\n",
        "        value_MPF += CF*((1+monthly_return)**count)                   #Compound MPF\n",
        "        count+=1\n",
        "\n",
        "print(\"It will take at least \" +str(math.floor(count/12))+\" year(s) and \" + str(count%12)+\" month(s) for the MPF to reach \" +str(target_MPF)+\".\")\n",
        "\n",
        "#End of program convention\n",
        "print() #Add an empty line in the output.\n",
        "input(\"Please ENTER to Exit. \") #This prevents the window from closing\n"
      ],
      "metadata": {
        "id": "jCQxSjlofZb7",
        "colab": {
          "base_uri": "https://localhost:8080/",
          "height": 108
        },
        "outputId": "dc8e9cb5-6535-452c-a1b6-bb508778d130"
      },
      "execution_count": null,
      "outputs": [
        {
          "name": "stdout",
          "output_type": "stream",
          "text": [
            "Enter the target balance for your MPF: 2500000\n",
            "It will take at least 43 year(s) and 4 month(s) for the MPF to reach 2500000.\n",
            "\n",
            "Please ENTER to Exit. \n"
          ]
        },
        {
          "output_type": "execute_result",
          "data": {
            "text/plain": [
              "''"
            ],
            "application/vnd.google.colaboratory.intrinsic+json": {
              "type": "string"
            }
          },
          "metadata": {},
          "execution_count": 19
        }
      ]
    },
    {
      "cell_type": "code",
      "source": [
        "#ARate= eval(input(\"Enter your target ANNUAL rate of return (without the % sign):\")) #define variable (ARate) as the target annual rate of return by the input function.\n",
        "\n",
        "MRate= 0.0017 #define variable (MRate) as the target monthly rate of return by dividing the target annual rate into 12.\n",
        "\n",
        "MPF= round((1500)*(((1+MRate)**(43*12+4)) -1)/MRate,2) #Using the annuity formula and round it to 2 demical points\n",
        "\n",
        "roundedMPF = round(MPF/1000000,1) #Round it in terms of millions and with 1 demical\n",
        "\n",
        "print(\"With a total monthly contribution of $3000, your MPF will worth $\"+str(MPF), \"after 38 years.\")\n",
        "print (\"That is about\", roundedMPF, \"millions(s).\")\n",
        "\n",
        "#End of program convention\n",
        "print() #Add an empty line in the output.\n",
        "input(\"Please ENTER to exit. \") #This prevents the window from closing"
      ],
      "metadata": {
        "colab": {
          "base_uri": "https://localhost:8080/",
          "height": 108
        },
        "id": "9FiPNw_87_C_",
        "outputId": "b41066f5-82f5-4d02-8ee7-05588a5b055e"
      },
      "execution_count": null,
      "outputs": [
        {
          "name": "stdout",
          "output_type": "stream",
          "text": [
            "With a total monthly contribution of $3000, your MPF will worth $1251835.19 after 38 years.\n",
            "That is about 1.3 millions(s).\n",
            "\n",
            "Please ENTER to exit. \n"
          ]
        },
        {
          "output_type": "execute_result",
          "data": {
            "text/plain": [
              "''"
            ],
            "application/vnd.google.colaboratory.intrinsic+json": {
              "type": "string"
            }
          },
          "metadata": {},
          "execution_count": 12
        }
      ]
    },
    {
      "cell_type": "markdown",
      "source": [
        "Classwork 7"
      ],
      "metadata": {
        "id": "zJKV_0-oa6fr"
      }
    },
    {
      "cell_type": "code",
      "source": [
        "#CB2240 Classwork 7: Present value of annuity due\n",
        "#Name: Ng Chun Yi\n",
        "#SID: 56913047\n",
        "\n",
        "year= eval(input(\"Enter the number of years: \"))   #define variable (year) as the number of years in the lease\n",
        "rent = 10000                                       #define variable (rent) as the monthly rent.\n",
        "DiscountRate = 0.0025                              #define variable (DiscountRate) as the monthly discount rate.\n",
        "\n",
        "PV=0                                               #define variable (PV) as the present value of cash flow\n",
        "for x in range(year*12):\n",
        "     PV+= (rent/((1+(DiscountRate))**x))           #the variable (PV) will be calculated every month\n",
        "\n",
        "print(\"The present value of \"+str(year)+ \" year(s) of rent is $\" +str(round(PV,2)))\n",
        "\n",
        "#End of program convention\n",
        "print() #Add an empty line in the output.\n",
        "input(\"Please ENTER to exit. \") #This prevents the window from closing"
      ],
      "metadata": {
        "colab": {
          "base_uri": "https://localhost:8080/",
          "height": 107
        },
        "id": "qqyaPLB9bYvo",
        "outputId": "4a7bfb2e-4c79-410d-ccc3-01057de2d2d9"
      },
      "execution_count": null,
      "outputs": [
        {
          "name": "stdout",
          "output_type": "stream",
          "text": [
            "Enter the number of years: 4\n",
            "The present value of 4 year(s) of rent is $452916.41\n",
            "\n",
            "Please ENTER to exit. \n"
          ]
        },
        {
          "output_type": "execute_result",
          "data": {
            "text/plain": [
              "''"
            ],
            "application/vnd.google.colaboratory.intrinsic+json": {
              "type": "string"
            }
          },
          "metadata": {},
          "execution_count": 5
        }
      ]
    },
    {
      "cell_type": "markdown",
      "source": [
        "Homework 7"
      ],
      "metadata": {
        "id": "VUkU9ZLoa6iR"
      }
    },
    {
      "cell_type": "code",
      "source": [
        "#CB2240 Homework 7: Caesar Cipher Algorithm (Left shift)\n",
        "#Name: Ng Chun Yi\n",
        "#SID: 56913047\n",
        "\n",
        "\n",
        "U_encrpyted = input(\"Message: \") #define variable (U_encrpyted) as the string storing the unencrpyted letters/strings\n",
        "encrpyted = \"\"                                #define variable (encrpyted) as the string storing the encrpyted letters/strings (still empty in this stage)\n",
        "shift= eval(input(\"Shift? \"))                 #define variable (shift) as the integer about how much it will switch\n",
        "\n",
        "if shift> 26:                                 #If the number of the shifts exceeds 26, start from the beginning of the alphabet (e.g. shifting by 28 is the same as shifting by 2)\n",
        "   shift%=26\n",
        "\n",
        "for i in U_encrpyted:                          #For loop (loop through every string in the U_encrpyted variable)\n",
        "    loc = int(string.ascii_letters.find(i))+1  #define variable (loc) as the integer finding the location of the unencrpyted letters/strings\n",
        "    final_loc= loc+ shift*-1                    #define variable (final_loc) as the integer about the final location of inside A-Z\n",
        "    if final_loc >26:                          #If the number of the final location exceeds 26, start from the beginning of the alphabet (e.g. shifting by 28 is the same as shifting by 2)\n",
        "       final_loc%= 26\n",
        "    temp = str(string.ascii_uppercase[final_loc-1])  #define variable (temp) as the string temporary storing the encrpyted strings in a loop\n",
        "    encrpyted += temp                                #define variable (encrpyted) as the string storing the encrpyted strings\n",
        "next\n",
        "\n",
        "\n",
        "print(\"Encrypted Message: \"+ encrpyted)       #printing encrpyted result\n",
        "\n",
        "#End of program convention\n",
        "print() #Add an empty line in the output.\n",
        "input(\"Please ENTER to exit. \") #This prevents the window from closing"
      ],
      "metadata": {
        "id": "_nEi8W95fYvw",
        "colab": {
          "base_uri": "https://localhost:8080/",
          "height": 125
        },
        "outputId": "b25cc1e7-6bb7-4a14-d835-c396cdc59c95"
      },
      "execution_count": null,
      "outputs": [
        {
          "name": "stdout",
          "output_type": "stream",
          "text": [
            "Message: Attack\n",
            "Shift? 3\n",
            "Encrypted Message: XQQXZH\n",
            "\n",
            "Please ENTER to exit. \n"
          ]
        },
        {
          "output_type": "execute_result",
          "data": {
            "text/plain": [
              "''"
            ],
            "application/vnd.google.colaboratory.intrinsic+json": {
              "type": "string"
            }
          },
          "metadata": {},
          "execution_count": 17
        }
      ]
    },
    {
      "cell_type": "code",
      "source": [
        "#CB2240 Homework 7: Caesar Cipher Algorithm (Left shift)\n",
        "#Name: Ng Chun Yi\n",
        "#SID: 56913047\n",
        "\n",
        "for i in range(0,2):\n",
        "  U_encrpyted = input(\"Message: \") #define variable (U_encrpyted) as the string storing the unencrpyted letters/strings\n",
        "  encrpyted = \"\"                                #define variable (encrpyted) as the string storing the encrpyted letters/strings (still empty in this stage)\n",
        "  shift= eval(input(\"Shift? \"))                 #define variable (shift) as the integer about how much it will switch\n",
        "\n",
        "  if shift> 26:                                 #If the number of the shifts exceeds 26, start from the beginning of the alphabet (e.g. shifting by 28 is the same as shifting by 2)\n",
        "    shift%=26\n",
        "\n",
        "  for i in U_encrpyted:                          #For loop (loop through every string in the U_encrpyted variable)\n",
        "      loc = int(string.ascii_letters.find(i))+1  #define variable (loc) as the integer finding the location of the unencrpyted letters/strings\n",
        "      final_loc= loc+ shift*-1                    #define variable (final_loc) as the integer about the final location of inside A-Z\n",
        "      if final_loc >26:                          #If the number of the final location exceeds 26, start from the beginning of the alphabet (e.g. shifting by 28 is the same as shifting by 2)\n",
        "        final_loc%= 26\n",
        "      temp = str(string.ascii_uppercase[final_loc-1])  #define variable (temp) as the string temporary storing the encrpyted strings in a loop\n",
        "      encrpyted += temp                                #define variable (encrpyted) as the string storing the encrpyted strings\n",
        "  next\n",
        "\n",
        "\n",
        "  print(\"Encrypted Message: \"+ encrpyted)       #printing encrpyted result\n",
        "\n",
        "  #End of program convention\n",
        "  print() #Add an empty line in the output.\n",
        "  input(\"Please ENTER to exit. \") #This prevents the window from closing"
      ],
      "metadata": {
        "id": "ArK5jPb5EG1E"
      },
      "execution_count": null,
      "outputs": []
    },
    {
      "cell_type": "markdown",
      "source": [
        "Classwork 8\n"
      ],
      "metadata": {
        "id": "OudxLm-Ua6k3"
      }
    },
    {
      "cell_type": "code",
      "source": [
        "#CB2240 Classwork 8: Present value of Ordinary Annuity with function\n",
        "#Name: Ng Chun Yi\n",
        "#SID: 56913047\n",
        "\n",
        "#Variables:\n",
        "\n",
        "#define variable (cashflow) as the annual cashflow.\n",
        "#define variable (periods) as the number of years.\n",
        "#define variable (discountrate) as the yearly discount rate.\n",
        "#define variable (PV) as the present value.\n",
        "\n",
        "def presentvalue(cashflow,discountrate,periods):\n",
        "    PV = 0\n",
        "    i =  0\n",
        "    for i in range(1,periods+1):\n",
        "        PV += cashflow/((1+discountrate)**i)\n",
        "        i+=1\n",
        "    return str(round(PV,2))\n",
        "\n",
        "run= eval(input())    #Accept user input for the self-defined function\n",
        "print(run)\n",
        "\n",
        "#End of program convention\n",
        "print() #Add an empty line in the output."
      ],
      "metadata": {
        "colab": {
          "base_uri": "https://localhost:8080/"
        },
        "id": "0omyzVuOfor8",
        "outputId": "c89a5e8f-f0d7-4c82-c1c8-08bf0f7d3019"
      },
      "execution_count": null,
      "outputs": [
        {
          "output_type": "stream",
          "name": "stdout",
          "text": [
            "presentvalue(1000,0.05,5)\n",
            "4329.48\n",
            "\n"
          ]
        }
      ]
    },
    {
      "cell_type": "markdown",
      "source": [
        "Homework 8"
      ],
      "metadata": {
        "id": "GYv9aPmpa6nk"
      }
    },
    {
      "cell_type": "code",
      "source": [
        "#CB2240 Homework 8: Caesar Cipher Algorithm with encryption and decryption feature\n",
        "#Name: Ng Chun Yi\n",
        "#SID: 56913047\n",
        "import string                                           #Import external python library (string)\n",
        "\n",
        "def caesar(message,action,shift):\n",
        "\n",
        "    indicator= 1                                        #define variable (indicator) as the integer identifying encryption or decryption in the loop (E or Encryption & D for Decrpytion)\n",
        "    caesar_output =\"\"\n",
        "\n",
        "    if shift> 26:                                       #If the number of the shifts exceeds 26, start from the beginning of the alphabet (e.g. shifting by 28 is the same as shifting by 2)\n",
        "      shift%=26\n",
        "\n",
        "    if (action =='E' or action =='e'):\n",
        "     indicator=1                                        #Right for Encryption\n",
        "    elif(action =='D' or action =='d'):\n",
        "     indicator*=-1                                      #Left for Decryption\n",
        "    else:\n",
        "      print(\"Unknown Command\")\n",
        "\n",
        "    for i in message:                                    #For loop (loop through every string in the U_encrpyted variable)\n",
        "              loc = int(string.ascii_letters.find(i))+1  #define variable (loc) as the integer finding the location of the unencrpyted letters/strings\n",
        "              final_loc= loc+ shift*indicator            #define variable (final_loc) as the integer about the final location of inside A-Z\n",
        "              if final_loc >26:                          #If the number of the final location exceeds 26, start from the beginning of the alphabet (e.g. shifting by 28 is the same as shifting by 2)\n",
        "                final_loc%= 26\n",
        "              temp = str(string.ascii_uppercase[final_loc-1])  #define variable (temp) as the string temporary storing the encrpyted strings in a loop\n",
        "              caesar_output += temp                      #define variable (caesar_output) as the string storing the encrpyted strings\n",
        "    next\n",
        "\n",
        "\n",
        "    return str(caesar_output.upper())\n",
        "          #printing encrpyted result\n",
        "\n",
        "run= eval(input())    #Accept user input for the self-defined function\n",
        "print(run)\n",
        "\n",
        "#End of program convention\n",
        "print() #Add an empty line in the output.\n",
        "\n",
        "a=0\n",
        "while (a <1):\n",
        "  indicator= input(\"Please press ENTER to exit or continue using this function\\n\\n\") #This allows the function run continuously for further testing\n",
        "  if \"caesar\" in indicator:\n",
        "      print(str(eval(indicator))+\"\\n\")\n",
        "  else:\n",
        "     a+=2"
      ],
      "metadata": {
        "colab": {
          "base_uri": "https://localhost:8080/"
        },
        "id": "NnEAKsOwvy5H",
        "outputId": "93c41684-69db-4d8a-be4a-8fc9b8cd1f9b"
      },
      "execution_count": null,
      "outputs": [
        {
          "name": "stdout",
          "output_type": "stream",
          "text": [
            "caesar(\"AttackAtDawn\", 'E', 81)\n",
            "DWWDFNDWGDZQ\n",
            "\n",
            "Please press ENTER to exit or continue using this function\n",
            "\n",
            "\n"
          ]
        }
      ]
    },
    {
      "cell_type": "markdown",
      "source": [
        "Classwork 9"
      ],
      "metadata": {
        "id": "Vdym_8nca6pT"
      }
    },
    {
      "cell_type": "code",
      "source": [
        "#CB2240 Classwork 9: Recursion\n",
        "#Name: Ng Chun Yi\n",
        "#SID: 56913047\n",
        "\n",
        "def recur_sum(lst):\n",
        "    if len(lst)==0:    #Define variable (lst) as the list string storing the desired variables\n",
        "        return 0\n",
        "    else:\n",
        "        return lst[0] + recur_sum(lst[1:])   #Adding the first string in every recursion\n",
        "\n",
        "run= eval(input())    #Accept user input for the self-defined function\n",
        "print(run)\n",
        "\n",
        "#End of program convention\n",
        "print() #Add an empty line in the output.\n",
        "\n",
        "a=0\n",
        "while (a <1):\n",
        "  indicator= input(\"Please press ENTER to exit or continue using this function\\n\") #This allows the function run continuously for further testing\n",
        "  if \"recur_sum\" in indicator:\n",
        "      print(str(eval(indicator))+\"\\n\")\n",
        "  else:\n",
        "     a+=2"
      ],
      "metadata": {
        "colab": {
          "base_uri": "https://localhost:8080/"
        },
        "id": "1sxIzMKyByVx",
        "outputId": "8a8ea412-2b69-44a3-f0ff-4c55904e701e"
      },
      "execution_count": null,
      "outputs": [
        {
          "name": "stdout",
          "output_type": "stream",
          "text": [
            "recur_sum([2, 3, 7, 5, 2])\n",
            "19\n",
            "\n",
            "Please press ENTER to exit or continue using this function\n",
            "recur_sum([2, 3, 7, 5, 2])\n",
            "19\n",
            "\n",
            "Please press ENTER to exit or continue using this function\n",
            "recur_sum([2, 3, 7, 5, 2])\n",
            "19\n",
            "\n",
            "Please press ENTER to exit or continue using this function\n",
            "recur_sum([2, 3, 7, 5, 2])\n",
            "19\n",
            "\n",
            "Please press ENTER to exit or continue using this function\n",
            "\n"
          ]
        }
      ]
    },
    {
      "cell_type": "markdown",
      "source": [
        "Homework 9"
      ],
      "metadata": {
        "id": "FRsYwzJla6rI"
      }
    },
    {
      "cell_type": "code",
      "source": [
        "#CB2240 Homework 9: Prime Factorization\n",
        "#Name: Ng Chun Yi\n",
        "#SID: 56913047\n",
        "\n",
        "#With the help from the Sieve of Eratosthenes\n",
        "\n",
        "def factorization (n):\n",
        "\n",
        "    lst = []\n",
        "    c = 2\n",
        "    while(n > 1):\n",
        "\n",
        "        if(n % c == 0):\n",
        "            lst.append(c)\n",
        "            n = n / c\n",
        "        else:\n",
        "            c = c + 1\n",
        "    return tuple([[x,lst.count(x)] for x in set(lst)])\n",
        "\n",
        "run= eval(input())    #Accept user input for the self-defined function\n",
        "print(run)\n",
        "\n",
        "#End of program convention\n",
        "print() #Add an empty line in the output.\n",
        "\n",
        "a=0\n",
        "while (a <1):\n",
        "  indicator= input(\"Please press ENTER to exit or continue using this function\\n\\n\") #This allows the function run continuously for further testing\n",
        "  if \"factorization\" in indicator:\n",
        "      print(str(eval(indicator))+\"\\n\")\n",
        "  else:\n",
        "     a+=2"
      ],
      "metadata": {
        "colab": {
          "base_uri": "https://localhost:8080/"
        },
        "id": "woKwVCwiY5sY",
        "outputId": "4d31b42a-2ca3-41fc-f441-d675f52edb6d"
      },
      "execution_count": null,
      "outputs": [
        {
          "name": "stdout",
          "output_type": "stream",
          "text": [
            "factorization(504)\n",
            "([2, 3], [3, 2], [7, 1])\n",
            "\n",
            "Please press ENTER to exit or continue using this function\n",
            "\n",
            "factorization(504)\n",
            "([2, 3], [3, 2], [7, 1])\n",
            "\n",
            "Please press ENTER to exit or continue using this function\n",
            "\n",
            "\n"
          ]
        }
      ]
    },
    {
      "cell_type": "markdown",
      "source": [
        "Classwork 10 (Object-orineted Programming)"
      ],
      "metadata": {
        "id": "CL_0Td82a6tQ"
      }
    },
    {
      "cell_type": "code",
      "source": [
        "#CB2240 Classwork 10: Employee\n",
        "#Name: Ng Chun Yi\n",
        "#SID: 56913047\n",
        "\n",
        "import string\n",
        "\n",
        "class Employee:                                 #Define class Employee\n",
        "    def __init__(self, first, last):\n",
        "        self.first = first\n",
        "        self.last =  last\n",
        "\n",
        "    def initial(self):\n",
        "        return (self.first)[0] + (self.last)[0]     #Return the first letter of both firstname and lastname\n",
        "\n",
        "    def number_letter(self):\n",
        "        return len(self.first) + len(self.last)     #return the sum of the length of both firstname and lastname\n",
        "a=0\n",
        "while (a <1):\n",
        "\n",
        "\n",
        "    temp= input()\n",
        "    if(\"=\" in temp):                                     #continue execution\n",
        "        exec(temp)\n",
        "    elif(temp == \"\"):\n",
        "        a+=2\n",
        "    else:\n",
        "        print(eval(temp))\n",
        "\n",
        "#employee1= Employee(\"Chun Yi\", \"Ng\")\n",
        "#employee2= Employee(\"HiuNam BB\", \"Cheung\")\n",
        "\n",
        "#employee1.first\n",
        "#employee1.initial()\n"
      ],
      "metadata": {
        "colab": {
          "base_uri": "https://localhost:8080/"
        },
        "id": "jqqhMscCfXuq",
        "outputId": "32790c5d-00e4-4974-e046-4befef38f0d0"
      },
      "execution_count": null,
      "outputs": [
        {
          "name": "stdout",
          "output_type": "stream",
          "text": [
            "employee1= Employee(\"Chun Yi\", \"Ng\")\n",
            "employee1.first\n",
            "Chun Yi\n",
            "\n"
          ]
        }
      ]
    },
    {
      "cell_type": "markdown",
      "source": [
        "Homework 10\n"
      ],
      "metadata": {
        "id": "NEx3Ycy5a6vv"
      }
    },
    {
      "cell_type": "code",
      "source": [
        "#CB2240 Classwork 10: Subclass of Employees\n",
        "#Name: Ng Chun Yi\n",
        "#SID: 56913047\n",
        "\n",
        "import string                                              #importing python library 'string'\n",
        "\n",
        "#Superclass Employee\n",
        "class Employee:                                             #Define class Employee\n",
        "    def __init__(self, Firstname, Lastname):\n",
        "        self.Firstname = Firstname\n",
        "        self.Lastname =  Lastname\n",
        "\n",
        "    def initial(self):\n",
        "        return (self.Firstname)[0] + (self.Lastname)[0]     #Return the first letter of both firstname and lastname\n",
        "\n",
        "    def number_letter(self):\n",
        "        return len(self.Firstname) + len(self.Lastname)     #return the sum of the length of both firstname and lastname\n",
        "\n",
        "\n",
        "#Subclass Executive\n",
        "class Executive(Employee):                                 #Define sub-class Executive\n",
        "    def __init__(self, Firstname, Lastname, salary, term):\n",
        "        super().__init__(Firstname, Lastname)              #As a sub-class, overriding the Firstname & Lastname function in the superclass\n",
        "        self.salary = salary\n",
        "        self.term = term\n",
        "\n",
        "    def pv_salary(self):\n",
        "        return round(sum([self.salary/(1.0025)**i for i in range(1, self.term+1)]),2 )   #Return the pv of the executive's salary\n",
        "\n",
        "\n",
        "#executive1 = Executive(\"George\", \"Carlin\", 20000, 48)\n",
        "\n",
        "a=0\n",
        "while (a <1):\n",
        "\n",
        "    temp= input()\n",
        "    if(\"=\" in temp):                    #for the continue execution and iteration\n",
        "        exec(temp)\n",
        "    elif(temp == \"\"):\n",
        "        a+=2\n",
        "    else:\n",
        "        print(eval(temp))"
      ],
      "metadata": {
        "colab": {
          "base_uri": "https://localhost:8080/"
        },
        "id": "KUz2qs-3fZrq",
        "outputId": "24f4ca4c-01cb-4831-9bfc-1a3b845a927c"
      },
      "execution_count": null,
      "outputs": [
        {
          "name": "stdout",
          "output_type": "stream",
          "text": [
            "executive1 = Executive(\"George\", \"Carlin\", 20000, 48) \n",
            "executive1.initial()\n",
            "GC\n",
            "executive1.number_letter()\n",
            "12\n",
            "executive1.salary\n",
            "20000\n",
            "executive1.term\n",
            "48\n",
            "executive1.pv_salary()\n",
            "903573.89\n",
            "\n"
          ]
        }
      ]
    },
    {
      "cell_type": "markdown",
      "source": [
        "Classwork 11"
      ],
      "metadata": {
        "id": "mLrJHFmJa6xk"
      }
    },
    {
      "cell_type": "code",
      "source": [
        "#CB2240 Classwork 11: Acrostic Poem\n",
        "#Name: Ng Chun Yi\n",
        "#SID: 56913047\n",
        "\n",
        "def first_letters(link):\n",
        "    inline = open(link,'r')       #Open the link\n",
        "    listVar= [line.rstrip() for line in inline]  #Store results into list\n",
        "    output= [i[0] for i in listVar]   #First letter of every sentence\n",
        "    return ''.join(output)\n",
        "\n",
        "print(eval(input()))\n",
        "\n",
        "a=0\n",
        "while (a <1):\n",
        "  indicator= input(\"Please press ENTER to exit or continue using this function\\n\") #This allows the function run continuously for further testing\n",
        "  if \"first_letters\" in indicator:\n",
        "      print(str(eval(indicator))+\"\\n\")\n",
        "  else:\n",
        "     a+=2"
      ],
      "metadata": {
        "id": "4K-_pMCA983o"
      },
      "execution_count": null,
      "outputs": []
    },
    {
      "cell_type": "markdown",
      "source": [
        "Homework 11"
      ],
      "metadata": {
        "id": "Dby-lSgRa6zs"
      }
    },
    {
      "cell_type": "code",
      "source": [
        "#CB2240 Homework 11: Numbers Processing\n",
        "#Name: Ng Chun Yi\n",
        "#SID: 56913047\n",
        "\n",
        "#numbers_processing(\"Numbers.txt\")\n",
        "\n",
        "def numbers_processing(link):\n",
        "    inline = open(link,'r')       #Open the link\n",
        "    listVar= [line.rstrip() for line in inline]  #Store results into list\n",
        "    list_smallest= min([int (x) for x in listVar])   #Find the smallest variable in the list\n",
        "    list_sum= sum([int (x) for x in listVar])        #Find the sum of list variables\n",
        "\n",
        "    output= \"\\nThe smallest number in the file Numbers.txt is \" +str(list_smallest)+ \",\\nwhile the sum of the numbers is \" + str(list_sum) +\".\"\n",
        "    return output\n",
        "\n",
        "print(numbers_processing(\"Numbers.txt\"))\n",
        "\n",
        "#End of program convention\n",
        "print() #Add an empty line in the output.\n",
        "input(\"Please ENTER to exit. \") #This prevents the window from closing\n"
      ],
      "metadata": {
        "id": "kezJj-hle4l4"
      },
      "execution_count": null,
      "outputs": []
    },
    {
      "cell_type": "markdown",
      "source": [
        "Classwork 12"
      ],
      "metadata": {
        "id": "T62QB4LVbHlX"
      }
    },
    {
      "cell_type": "code",
      "source": [
        "#CB2240 Classwork 12: Credit card number validation\n",
        "#Name: Ng Chun Yi\n",
        "#SID: 56913047\n",
        "\n",
        "df= input(\"Enter a credit card number: \")\n",
        "df_cal= []\n",
        "for i in range(1,15):\n",
        "  if (i%2==0) & (int(df[i-1])*2>=10):         #if the double-numbered digit *2> 10, then -9\n",
        "    df_cal.append(int(df[i-1])*2-9)\n",
        "  elif (i%2==0) & (int(df[i-1])*2<=10):       #if the double-numbered digital *2<10, then just append\n",
        "    df_cal.append(int(df[i-1])*2)\n",
        "  elif (i%2 ==1):\n",
        "    df_cal.append(df[i-1])                    #Single-numbered digit just append\n",
        "\n",
        "if sum([int(x) for x in df_cal])%10 == 0:     #If the sum can divisible for 10, then it is a valid credit card\n",
        "       print(\"The number is valid.\")\n",
        "else:\n",
        "   print(\"The number is not valid.\")\n",
        "\n",
        "#58667936100244\n",
        "\n",
        "#End of program convention\n",
        "print() #Add an empty line in the output.\n",
        "input(\"Please ENTER to exit. \") #This prevents the window from closing"
      ],
      "metadata": {
        "id": "ZBaMWxTTfCJ2",
        "colab": {
          "base_uri": "https://localhost:8080/"
        },
        "outputId": "93d268eb-036c-4545-c189-4046846918f9"
      },
      "execution_count": null,
      "outputs": [
        {
          "output_type": "stream",
          "name": "stdout",
          "text": [
            "Enter a credit card number: 58667936100244\n",
            "The number is valid.\n"
          ]
        }
      ]
    },
    {
      "cell_type": "markdown",
      "source": [
        "Homework 12"
      ],
      "metadata": {
        "id": "WMcTLMOQbHvD"
      }
    },
    {
      "cell_type": "code",
      "source": [
        "#CB2240 Homework 12: File Merge\n",
        "#Name: Ng Chun Yi\n",
        "#SID: 56913047\n",
        "\n",
        "import pandas as pd\n",
        "\n",
        "\n",
        "def swap_columns(df, col1, col2):    #Function to swap column\n",
        "    col_list = list(df.columns)\n",
        "    x, y = col_list.index(col1), col_list.index(col2)\n",
        "    col_list[y], col_list[x] = col_list[x], col_list[y]\n",
        "    df = df[col_list]\n",
        "    return df\n",
        "\n",
        "\n",
        "inline1 = open(\"Bank1.txt\",'r')       #Importing Bank1 txt into inline1\n",
        "inline2 = open(\"Bank2.txt\",'r')       #Importing Bank1 txt into inline2\n",
        "\n",
        "listVar1= [line.rstrip() for line in inline1]  #Store results into list listVar1\n",
        "listVar2= [line.rstrip() for line in inline2]  #Store results into list listVar2\n",
        "\n",
        "df1= pd.DataFrame([sub.split(\",\") for sub in listVar1]).set_axis(['A', 'B', 'C', 'D'], axis=1)  #Split with delimiter \",\" and import into dataframe\n",
        "\n",
        "listVar2 = list(map(lambda x: x.replace(' ', ','), listVar2))    #Replace space with ',' to combine First name and last name\n",
        "\n",
        "df2= pd.DataFrame([sub.split(\",\") for sub in listVar2]).set_axis(['A', 'B', 'D', 'C'], axis=1)  #Split with delimiter \",\" and import into dataframe\n",
        "\n",
        "df2= swap_columns(df2, 'C', 'D')  #Utilize UDF: User Defined function as written above\n",
        "\n",
        "df3=pd.concat([df1, df2]).drop_duplicates().sort_values(by=['A'])  #drop duplicates and sort by first name\n",
        "\n",
        "df3.to_csv(r'bank_merged.txt', header=None, index=None)    #output as bank_merged.txt after dropping index and headings"
      ],
      "metadata": {
        "id": "mpVxcvtEfiLC"
      },
      "execution_count": null,
      "outputs": []
    },
    {
      "cell_type": "markdown",
      "source": [
        "Classwork 13"
      ],
      "metadata": {
        "id": "laTO9bqwbH4V"
      }
    },
    {
      "cell_type": "code",
      "source": [
        "#CB2240 Classwork 13: Earnings\n",
        "#Name: Ng Chun Yi\n",
        "#SID: 56913047\n",
        "\n",
        "#Define a class\n",
        "class Wages:\n",
        "  def __init__ (self, name, hours, wage):\n",
        "    self.name= name\n",
        "    self.hours = hours\n",
        "    self.wage = wage\n",
        "\n",
        "#Method payforweek\n",
        "  def payForWeek(self):\n",
        "      if self.hours > 40:\n",
        "         totalpay= (self.hours-40)*(self.wage*1.5)+ 40*self.wage  #If working hours>40, hourly wages *1.5\n",
        "      else:\n",
        "         totalpay= self.hours* self.wage\n",
        "      return totalpay\n",
        "\n",
        "name= input(\"Enter a person's name: \")                            #Define variable (name) as the string strong the user's name\n",
        "hours= eval(input(\"Enter number of hours worked: \"))              #Define variable (hours) as the integer strong the user's working hours\n",
        "wage= eval (input(\"Enter hourly wage: \"))                         #Define variable (wage) as the string strong the user's wage\n",
        "\n",
        "cal= Wages(name, hours,wage)                                      #initiate the class\n",
        "print(\"Pay for \"+ str(cal.name)+\": $\"+str(cal.payForWeek()))      #output\n",
        "\n",
        "\n",
        "#End of program convention\n",
        "print() #Add an empty line in the output.\n",
        "input(\"Please ENTER to exit. \") #This prevents the window from closing"
      ],
      "metadata": {
        "colab": {
          "base_uri": "https://localhost:8080/"
        },
        "id": "3oCaLpWdpOBi",
        "outputId": "2b9bbce5-9c6f-4732-ae2d-25c3741caf62"
      },
      "execution_count": null,
      "outputs": [
        {
          "output_type": "stream",
          "name": "stdout",
          "text": [
            "Enter a person's name: Jerry \n",
            "Enter number of hours worked: 60\n",
            "Enter hourly wage: 2\n",
            "Pay for Jerry : $140.0\n"
          ]
        }
      ]
    },
    {
      "cell_type": "code",
      "source": [
        "#CB2240 Homework 13: Interest-Only Mortgage\n",
        "#Name: Ng Chun Yi\n",
        "#SID: 56913047\n",
        "\n",
        "class Mortgage:                                                    #Define CLASS mortgage\n",
        "    def __init__ (self, principal, interestRate, term):\n",
        "      self.principal = principal                                   #Define variable (principal) as the principal of the interest-only mortgage\n",
        "      self.interestRate = interestRate                             #Define variable (interestRate) as the interest rate of the mortgage loan\n",
        "      self.term= term                                              #Define variable (term) as the term of the mortgage loan\n",
        "\n",
        "    def calculateMonthlyPayment (self):\n",
        "      i= self.interestRate/ 1200\n",
        "      return ((i/(1-((1+1)** (-12* self.term))))* self.principal)  #Monthly payment within the interest-only period\n",
        "\n",
        "\n",
        "\n",
        "class InterestOnlyMortgage(Mortgage):                              #Define subclass InterestOnlyMortgage\n",
        "    def __init__(self, principal, interestRate, term, numberOfInterestOnlyYears):\n",
        "        super().__init__(principal, interestRate, term)\n",
        "        self.numberOfInterestOnlyYears = numberOfInterestOnlyYears  #Define variable (numberOfInterestOnlyYears) as number of interest only year\n",
        "\n",
        "\n",
        "    def Interest_Later_Year_Calculation(self):\n",
        "        return round(self.calculateMonthlyPayment()/(1-((1+((self.interestRate/100)/12))**(-1*((self.term-self.numberOfInterestOnlyYears))*12))),2)\n",
        "                         #Calculated by interest-only payment/(1-(1+monthly interest rate)^ - non interest only years) payment/\n",
        "\n",
        "\n",
        "\n",
        "principal= eval(input(\"Enter the principal amount of mortgage: \"))                       #Prompt user for the principal amount input\n",
        "interestRate= eval(input(\"Enter percent interest rate: \"))                               #Prompt user for the interest rate input\n",
        "term= eval(input(\"Enter duration of mortgage in years: \"))                               #Prompt user for the mortgage term input\n",
        "numberOfInterestOnlyYears= eval(input(\"Enter number of interest-only years: \"))          #Prompt user for the number of interest only years input\n",
        "calculate= InterestOnlyMortgage(principal, interestRate, term, numberOfInterestOnlyYears)\n",
        "\n",
        "\n",
        "first= InterestOnlyMortgage(principal, interestRate, term,numberOfInterestOnlyYears)     #initiate object\n",
        "#first= InterestOnlyMortgage(5000000, 3.8, 25,10)\n",
        "\n",
        "print(\"Monthly payment for the first \" + str(first.numberOfInterestOnlyYears)+\" years: $\" +str('{:0,.2f}'.format((round(first.calculateMonthlyPayment(),2)))))\n",
        "print(\"Monthly payment for the last \" +str((first.term-first.numberOfInterestOnlyYears))+\" years: $\" +str('{:0,.2f}'.format((round(first.Interest_Later_Year_Calculation(),2)))))\n",
        "\n",
        "#End of program convention\n",
        "print() #Add an empty line in the output.\n",
        "input(\"Please ENTER to exit. \") #This prevents the window from closing"
      ],
      "metadata": {
        "id": "F30KuEaNbXQ1",
        "colab": {
          "base_uri": "https://localhost:8080/",
          "height": 179
        },
        "outputId": "a9cb159d-fe09-42a3-fc53-48d48a547d1a"
      },
      "execution_count": null,
      "outputs": [
        {
          "name": "stdout",
          "output_type": "stream",
          "text": [
            "Enter the principal amount of mortgage: 123\n",
            "Enter percent interest rate: 123\n",
            "Enter duration of mortgage in years: 123\n",
            "Enter number of interest-only years: 9\n",
            "Monthly payment for the first 9 years: $12.61\n",
            "Monthly payment for the last 114 years: $12.61\n",
            "\n",
            "Please ENTER to exit. \n"
          ]
        },
        {
          "output_type": "execute_result",
          "data": {
            "text/plain": [
              "''"
            ],
            "application/vnd.google.colaboratory.intrinsic+json": {
              "type": "string"
            }
          },
          "metadata": {},
          "execution_count": 26
        }
      ]
    },
    {
      "cell_type": "code",
      "source": [
        "for x in  range(2,10,2):\n",
        "  print(x**2)"
      ],
      "metadata": {
        "id": "G09-GeuRrboP",
        "colab": {
          "base_uri": "https://localhost:8080/"
        },
        "outputId": "1213f0e6-bff6-4182-c298-c056ab3c83c9"
      },
      "execution_count": null,
      "outputs": [
        {
          "output_type": "stream",
          "name": "stdout",
          "text": [
            "4\n",
            "16\n",
            "36\n",
            "64\n"
          ]
        }
      ]
    },
    {
      "cell_type": "code",
      "source": [
        "def caculation(x):\n",
        "  x*=2\n",
        "  x+=1\n",
        "  print(x)\n",
        "\n",
        "x=3\n",
        "caculation(3)"
      ],
      "metadata": {
        "id": "uuGnMoQ13fzy",
        "colab": {
          "base_uri": "https://localhost:8080/"
        },
        "outputId": "76cf9dbe-2cc5-4e7c-f7b1-09e8b6ae5cfd"
      },
      "execution_count": null,
      "outputs": [
        {
          "output_type": "stream",
          "name": "stdout",
          "text": [
            "7\n"
          ]
        }
      ]
    },
    {
      "cell_type": "code",
      "source": [
        "a= lambda x: x**2\n",
        "b= [a(3), 2]*2\n",
        "print(b)"
      ],
      "metadata": {
        "id": "pHj3d7Tg8V7o",
        "colab": {
          "base_uri": "https://localhost:8080/"
        },
        "outputId": "fdfd1a42-95d6-42c3-a465-c945f48dcfdd"
      },
      "execution_count": null,
      "outputs": [
        {
          "output_type": "stream",
          "name": "stdout",
          "text": [
            "[9, 2, 9, 2]\n"
          ]
        }
      ]
    },
    {
      "cell_type": "code",
      "source": [],
      "metadata": {
        "id": "NgrSuhwT8V-m"
      },
      "execution_count": null,
      "outputs": []
    },
    {
      "cell_type": "markdown",
      "source": [
        "Last year Exam"
      ],
      "metadata": {
        "id": "eb_p7wrP7nDR"
      }
    },
    {
      "cell_type": "markdown",
      "source": [
        "Q4"
      ],
      "metadata": {
        "id": "PrHELxm87qDG"
      }
    },
    {
      "cell_type": "code",
      "source": [
        "class Name:\n",
        "  def __init__(self,name1, name2):\n",
        "    self.n1= name1\n",
        "    self.n2= name2\n",
        "\n",
        "  def name(self):\n",
        "    self.combined= str(self.n1) + str(self.n2)\n",
        "    s= set()\n",
        "    for i in self.combined:\n",
        "      s.add (i)\n",
        "\n",
        "    return \"Hi ,\" +str(self.n1)+\" \"+ str(self.n2)+\". \"+ \"Your name consists of letters \" + str(s) +\".\"\n",
        "\n",
        "person= Name(\"Jerry\",\"Ng\")"
      ],
      "metadata": {
        "id": "fue7pvGt7pRj"
      },
      "execution_count": null,
      "outputs": []
    },
    {
      "cell_type": "code",
      "source": [
        "print(person.name())"
      ],
      "metadata": {
        "colab": {
          "base_uri": "https://localhost:8080/"
        },
        "id": "fIleoS2Y8Y02",
        "outputId": "597efc02-b20c-41e0-eb7c-cdf336ce45bf"
      },
      "execution_count": null,
      "outputs": [
        {
          "output_type": "stream",
          "name": "stdout",
          "text": [
            "Hi ,Jerry Ng. Your name consists of letters {'y', 'r', 'N', 'g', 'J', 'e'}.\n"
          ]
        }
      ]
    },
    {
      "cell_type": "code",
      "source": [
        "N= input(\"Enter a credit card number\")\n",
        "odd= []\n",
        "Double =[]\n",
        "Double_converted = []\n",
        "\n",
        "count=1\n",
        "for i in N:\n",
        "  if (count%2!=0):\n",
        "    odd.append(i)\n",
        "    count +=1\n",
        "  else:\n",
        "    Double.append(i)\n",
        "    count +=1\n",
        "\n",
        "for a in Double:\n",
        "  if int(a)*2 >10:\n",
        "    Double_converted.append(int(a)*2-9)\n",
        "  else:\n",
        "    Double_converted.append(int(a)*2)\n",
        "\n",
        "converted_int = [int(x) for x in odd]\n",
        "\n",
        "print(sum(converted_int)+sum(Double_converted))\n",
        "#if(sum(converted_int)+sum(Double_converted)%10 ==0):\n",
        "#    print(\"It is valid\")\n",
        "#else:\n",
        "#   print(\"Your card is fake\")\n",
        "\n",
        "    #58667936100244"
      ],
      "metadata": {
        "colab": {
          "base_uri": "https://localhost:8080/"
        },
        "id": "iOj9MPWE8qob",
        "outputId": "d0aa24c6-35fc-4d35-a648-36aa7d8c62a6"
      },
      "execution_count": null,
      "outputs": [
        {
          "output_type": "stream",
          "name": "stdout",
          "text": [
            "Enter a credit card number58667936100244\n",
            "60\n"
          ]
        }
      ]
    },
    {
      "cell_type": "code",
      "source": [
        "def sum_series(a):\n",
        "  if a<1:\n",
        "    return a\n",
        "  else:\n",
        "    return a+sum_series(a-2)\n",
        "\n",
        "sum_series(10)"
      ],
      "metadata": {
        "id": "M7kIo-aIu-d_",
        "colab": {
          "base_uri": "https://localhost:8080/"
        },
        "outputId": "355e72e4-384a-449c-c1b3-8003e8e74f55"
      },
      "execution_count": null,
      "outputs": [
        {
          "output_type": "execute_result",
          "data": {
            "text/plain": [
              "30"
            ]
          },
          "metadata": {},
          "execution_count": 7
        }
      ]
    },
    {
      "cell_type": "code",
      "source": [
        "#annuity due recursion:\n",
        "def annuity_due(a):\n",
        "  if a==0:\n",
        "    return 1000\n",
        "  else:\n",
        "    return 1000/(1.05)**a+ annuity_due(a-1)\n",
        "\n",
        "annuity_due(4)\n"
      ],
      "metadata": {
        "colab": {
          "base_uri": "https://localhost:8080/"
        },
        "id": "E5BIPzf1xr6H",
        "outputId": "b1ac9998-9f8f-468d-a377-bacf210f61d5"
      },
      "execution_count": null,
      "outputs": [
        {
          "output_type": "execute_result",
          "data": {
            "text/plain": [
              "4545.950504162361"
            ]
          },
          "metadata": {},
          "execution_count": 8
        }
      ]
    },
    {
      "cell_type": "code",
      "source": [
        "p= 5000000\n",
        "r= 3.8\n",
        "pmt= 25500\n",
        "n= 300\n",
        "\n",
        "def balance(p,pmt,r,n):\n",
        "  if (n==0):\n",
        "    return p\n",
        "  else:\n",
        "    return (1+(r/1200))*balance(p,pmt,r,n-1)-pmt\n",
        "\n",
        "balance(p,pmt,r,n)"
      ],
      "metadata": {
        "id": "YwBcHgCRz3Ws",
        "colab": {
          "base_uri": "https://localhost:8080/"
        },
        "outputId": "a14a1fb6-1b95-4fb3-cddc-f01841eb98ff"
      },
      "execution_count": null,
      "outputs": [
        {
          "output_type": "execute_result",
          "data": {
            "text/plain": [
              "171251.44328383057"
            ]
          },
          "metadata": {},
          "execution_count": 14
        }
      ]
    },
    {
      "cell_type": "code",
      "source": [
        "i=0\n",
        "while (238.25*1.025**i <238.25*2):\n",
        "  i+=1\n",
        "print(i)"
      ],
      "metadata": {
        "colab": {
          "base_uri": "https://localhost:8080/"
        },
        "id": "N5Kn4xrPjQdR",
        "outputId": "89b8b754-1833-419d-c381-04f8111c9673"
      },
      "execution_count": null,
      "outputs": [
        {
          "output_type": "stream",
          "name": "stdout",
          "text": [
            "29\n"
          ]
        }
      ]
    },
    {
      "cell_type": "code",
      "source": [
        "a= list(range(1,6))\n",
        "print(a[-1:])"
      ],
      "metadata": {
        "colab": {
          "base_uri": "https://localhost:8080/"
        },
        "id": "sSgp2RFynzHp",
        "outputId": "7d8d4a45-9e1a-4a2b-8d1f-949e92f415cf"
      },
      "execution_count": null,
      "outputs": [
        {
          "output_type": "stream",
          "name": "stdout",
          "text": [
            "[5]\n"
          ]
        }
      ]
    },
    {
      "cell_type": "code",
      "source": [],
      "metadata": {
        "id": "_lxKgFOPwA-M"
      },
      "execution_count": null,
      "outputs": []
    }
  ]
}